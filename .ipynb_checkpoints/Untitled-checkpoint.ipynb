{
 "cells": [
  {
   "cell_type": "code",
   "execution_count": 20,
   "metadata": {},
   "outputs": [],
   "source": [
    "import pandas as pd\n",
    "import os"
   ]
  },
  {
   "cell_type": "code",
   "execution_count": 2,
   "metadata": {},
   "outputs": [],
   "source": [
    "df = pd.read_csv(\"response.csv\")"
   ]
  },
  {
   "cell_type": "code",
   "execution_count": 5,
   "metadata": {},
   "outputs": [
    {
     "data": {
      "text/plain": [
       "Index(['Timestamp', 'Email address', 'Team ID', 'Team Name',\n",
       "       'Github Repository Link', 'Pitch Deck Link', 'Pitch Video Link',\n",
       "       'By submitting this form, I acknowledge that I have read the Terms and Conditions set forth by the organizer and followed the rules. I understand that if any changes are made to the files after the submission deadline of 7th September 2020 1900HRS, the judges can choose to either disregard the change or disqualify the team. I accept that the judge's decision is final and binding. ',\n",
       "       'Verified', 'Demo', 'Platform'],\n",
       "      dtype='object')"
      ]
     },
     "execution_count": 5,
     "metadata": {},
     "output_type": "execute_result"
    }
   ],
   "source": [
    "df.columns"
   ]
  },
  {
   "cell_type": "code",
   "execution_count": 27,
   "metadata": {
    "collapsed": true,
    "jupyter": {
     "outputs_hidden": true
    }
   },
   "outputs": [
    {
     "name": "stdout",
     "output_type": "stream",
     "text": [
      "H-05\n",
      "https://drive.google.com/file/d/1WU7hKGEdYAPpQHthesdNNnsDs9o9yIN5/view?usp=sharing\n",
      "\n",
      "H-35\n",
      "https://drive.google.com/file/d/1IKGpFqNPjynvsHt7sqKO7AklUviGlqWh/view?usp=sharing\n",
      "\n",
      "H-32\n",
      "https://drive.google.com/file/d/1-CcipdiByAL2f0nGfJ0zyLlIOcaV-I5G/view?usp=sharing\n",
      "\n",
      "H-30\n",
      "https://drive.google.com/file/d/1tZSyFABNTNWwAfiJJjG2vv9XN-H0aFcX/view?usp=sharing\n",
      "\n",
      "H-04\n",
      "https://drive.google.com/file/d/1pVQvT-dl9w1hLZf45GmYBXLzhLL2GLzJ/view?usp=sharing\n",
      "\n",
      "H-25\n",
      "https://drive.google.com/file/d/1FdJ_IVXq1FluOoAG8Zk_lOfbA6GONW4r/view?usp=sharing\n",
      "\n",
      "H-02\n",
      "https://smu-my.sharepoint.com/:p:/g/personal/huifen_ong_2018_business_smu_edu_sg/EcAFYiy0VqhOqiTklSeEz6YBF67USEsafKhyMQxoVD1mYg?e=akEqcX\n",
      "\n",
      "H-14\n",
      "https://drive.google.com/file/d/1x65if9X0XsSEgm1dI4nC3aP8AkP7oRSq/view?usp=sharing\n",
      "\n",
      "H-19\n",
      "https://drive.google.com/drive/folders/1FFdf733TORLCBSInCBPnahP6H4tBmadq?usp=sharing\n",
      "\n",
      "H-20\n",
      "https://smu-my.sharepoint.com/:p:/g/personal/yklee_2017_sis_smu_edu_sg/EaktS8zY8XNGrxnKn4z4pskBOCf4YPUhNm8zHFMnMXZrwg?e=0HrML8\n",
      "\n",
      "H-36\n",
      "https://docs.google.com/presentation/d/1gXskjw8bOmbM_cYJM9ToPlphdwt2UCUJ/edit#slide=id.p1\n",
      "\n",
      "H-33\n",
      "https://docs.google.com/presentation/d/19q_Jgu13GW-OymB9mArSjc-r2ehVJcazHJvAGqJcijY/edit?usp=sharing\n",
      "\n",
      "H-27\n",
      "https://docs.google.com/presentation/d/1tkzNIIHY2993Fp2FrJsgge0oEG_Y1dQbWjFO3DcIJss/edit?usp=sharing\n",
      "\n",
      "H-18\n",
      "https://drive.google.com/drive/folders/1WsDAf0RYzR880owPI7W9rfQ0btMgI7WC?usp=sharing\n",
      "\n",
      "H-29\n",
      "https://drive.google.com/file/d/1h1sk6yWzd4t19cAF3ZPiDUoBUGcKHFng/view?usp=sharing\n",
      "\n",
      "H-37\n",
      "https://drive.google.com/file/d/1QAbHG5ZEdbr1D_Afv9rPymgpKFYFKTpq/view?usp=sharing\n",
      "\n",
      "H-01\n",
      "https://drive.google.com/file/d/1X86b4wG4urYW4JPXLyYaaFl9oWqfl3sw/view?usp=sharing\n",
      "\n",
      "H-38\n",
      "https://docs.google.com/presentation/d/1gqdZlp6yGNdSOES7ihM16y3JUJwGkynzCibXyIaJZco/edit?usp=sharing\n",
      "\n",
      "H-28\n",
      "https://drive.google.com/file/d/1mWmtON5Yu4id370pypv6qBKxV6T4EUv_/view?usp=sharing\n",
      "\n",
      "H-10\n",
      "https://drive.google.com/drive/folders/1KPf3_I0o-Dvhc3UhbPyj-whwk4hwfC25?usp=sharing\n",
      "\n",
      "H-03\n",
      "https://drive.google.com/file/d/1ZCQkRe2kNdTfPVGCNKK1uVMaPiJcJGhj/view?usp=sharing\n",
      "\n",
      "H-13\n",
      "https://drive.google.com/file/d/10oSsmSqeei0wc1HtjAEGDOvFKKbCNJ5x/view\n",
      "\n",
      "H-09\n",
      "https://drive.google.com/file/d/1OVODJvqST66j7AFCrZdDhSYEZsTX7SxW/view?usp=sharing\n",
      "\n",
      "H-07\n",
      "https://drive.google.com/drive/folders/1UMHGgu08gidCqrMu97OWBSQlVP3fnLzD?usp=sharing\n",
      "\n",
      "H-16\n",
      "https://drive.google.com/file/d/1nxlb8Kin47EKWpV_lopVz34l4wYivCnq/view?usp=sharing\n",
      "\n"
     ]
    }
   ],
   "source": [
    "for _,i in df.iterrows():\n",
    "    teamid = i[\"Team ID\"]\n",
    "    github = i[\"Github Repository Link\"]\n",
    "    deck = i[\"Pitch Deck Link\"]\n",
    "    vid = i[\"Pitch Video Link\"]\n",
    "    if not os.path.exists(teamid):\n",
    "        os.mkdir(teamid)\n",
    "    with open(os.path.join(teamid, \"links.txt\"), \"w\") as f:\n",
    "        f.write(github +\"\\n\")\n",
    "        f.write(vid)\n",
    "    print(teamid)\n",
    "    print(deck)\n",
    "    print()"
   ]
  },
  {
   "cell_type": "code",
   "execution_count": null,
   "metadata": {},
   "outputs": [],
   "source": [
    "for _,i in df.iterrows():\n",
    "    teamid = i[\"Team ID\"]\n",
    "    teamname = i[\"Team Name\"]\n",
    "    "
   ]
  },
  {
   "cell_type": "code",
   "execution_count": 39,
   "metadata": {},
   "outputs": [
    {
     "name": "stdout",
     "output_type": "stream",
     "text": [
      "NoNamePitchDeck.pptx\n",
      "MIC Accumulate by Miracle Implosive Crusaders.pptx\n",
      "H01_FinalGoldmanPitchDeck.pptx\n",
      "Pitch Deck.pptx\n",
      "Hackathon slide deck.pptx\n",
      "[H-36]YodatheCoda_FinBit.pptx\n",
      "GS Hackathon Pitch Deck AWSome.pptx\n",
      "PitchDeck_BlueprintTechnologies_GoldmanxEllipsis.pdf\n",
      "Pitch Deck - The Millionnials.pptx\n",
      "Pitch Deck.pptx\n",
      "Ready Player One.pptx\n",
      "Finsocial.pptx\n",
      "P.E.A.R. by Amazing Whack Services (1).pptx\n",
      "FUNDEX PITCH DECK.pdf\n",
      "Ctrl Alt Elite (H-04) Pitch Deck (please download and view).pptx\n",
      "ea$y$ Pitch Deck.pptx\n",
      "Timnem.pptx\n",
      "test-checkpoint.ppt\n",
      "Ellipsis Tech Series 2020 Pitch Deck Team H-28.pptm\n",
      "Pitching slides.pptx\n",
      "H-19_MaskCapital_PitchSlides.pptx\n",
      "H-20_Ellipsis Tech.pptx\n",
      "GS_Hackathon_Deck_Submission.pptx\n",
      "H-27 Pitch Deck.pptx\n",
      "MAVAL Pitch Deck.pptx\n",
      "OdeToCode PitchDeck.pdf\n"
     ]
    }
   ],
   "source": [
    "import os\n",
    "for file in os.listdir():\n",
    "    if os.path.isdir(file):\n",
    "        for i in os.listdir(file):\n",
    "            if i != \"links.txt\" and i != \".DS_Store\" and i != \"Untitled-checkpoint.ipynb\":\n",
    "                oldfilename = i\n",
    "                filetype = os.path.splitext(os.path.join(file, i))[1]\n",
    "                newfilename = file + \"_deck\" + filetype\n",
    "                print(i)\n",
    "#                 os.rename()\n",
    "#                 print(oldfilename)\n",
    "#                 print(newfilename)"
   ]
  }
 ],
 "metadata": {
  "kernelspec": {
   "display_name": "Python 3",
   "language": "python",
   "name": "python3"
  },
  "language_info": {
   "codemirror_mode": {
    "name": "ipython",
    "version": 3
   },
   "file_extension": ".py",
   "mimetype": "text/x-python",
   "name": "python",
   "nbconvert_exporter": "python",
   "pygments_lexer": "ipython3",
   "version": "3.7.7"
  }
 },
 "nbformat": 4,
 "nbformat_minor": 4
}
